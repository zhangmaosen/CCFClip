{
 "cells": [
  {
   "cell_type": "code",
   "execution_count": 5,
   "metadata": {},
   "outputs": [
    {
     "name": "stdout",
     "output_type": "stream",
     "text": [
      "None\n"
     ]
    }
   ],
   "source": [
    "# -*- coding: utf-8 -*-\n",
    "# This file is auto-generated, don't edit it. Thanks.\n",
    "import sys\n",
    "\n",
    "from typing import List\n",
    "\n",
    "from alibabacloud_dingtalk.oauth2_1_0.client import Client as dingtalkoauth2_1_0Client\n",
    "from alibabacloud_tea_openapi import models as open_api_models\n",
    "from alibabacloud_dingtalk.oauth2_1_0 import models as dingtalkoauth_2__1__0_models\n",
    "from alibabacloud_tea_util.client import Client as UtilClient\n",
    "\n",
    "\n",
    "class Sample:\n",
    "    def __init__(self):\n",
    "        pass\n",
    "\n",
    "    @staticmethod\n",
    "    def create_client() -> dingtalkoauth2_1_0Client:\n",
    "        \"\"\"\n",
    "        使用 Token 初始化账号Client\n",
    "        @return: Client\n",
    "        @throws Exception\n",
    "        \"\"\"\n",
    "        config = open_api_models.Config()\n",
    "        config.protocol = 'https'\n",
    "        config.region_id = 'central'\n",
    "        return dingtalkoauth2_1_0Client(config)\n",
    "\n",
    "    @staticmethod\n",
    "    def main(\n",
    "        args: List[str],\n",
    "    ) -> None:\n",
    "        client = Sample.create_client()\n",
    "        get_access_token_request = dingtalkoauth_2__1__0_models.GetAccessTokenRequest(\n",
    "            app_key='dingvggtjcuvxspjrhie',\n",
    "            app_secret='mMPsAykAIMdpqaNgX_q0wodE5OT1ZnQCRBXdzeZGcf67RajdaVeBM0HflCrxPeKY'\n",
    "        )\n",
    "        try:\n",
    "            return client.get_access_token(get_access_token_request)\n",
    "        except Exception as err:\n",
    "            if not UtilClient.empty(err.code) and not UtilClient.empty(err.message):\n",
    "                # err 中含有 code 和 message 属性，可帮助开发定位问题\n",
    "                pass\n",
    "\n",
    "    @staticmethod\n",
    "    async def main_async(\n",
    "        args: List[str],\n",
    "    ) -> None:\n",
    "        client = Sample.create_client()\n",
    "        get_access_token_request = dingtalkoauth_2__1__0_models.GetAccessTokenRequest(\n",
    "            app_key='dingeqqpkv3xxxxxx',\n",
    "            app_secret='GT-lsu-taDAxxxsTsxxxx'\n",
    "        )\n",
    "        try:\n",
    "            await client.get_access_token_async(get_access_token_request)\n",
    "        except Exception as err:\n",
    "            if not UtilClient.empty(err.code) and not UtilClient.empty(err.message):\n",
    "                # err 中含有 code 和 message 属性，可帮助开发定位问题\n",
    "                pass\n",
    "\n",
    "\n",
    "if __name__ == '__main__':\n",
    "    out = Sample.main(sys.argv[1:])\n",
    "    print(out)"
   ]
  },
  {
   "cell_type": "code",
   "execution_count": 9,
   "metadata": {},
   "outputs": [
    {
     "name": "stdout",
     "output_type": "stream",
     "text": [
      "None\n"
     ]
    }
   ],
   "source": [
    "out = Sample.main(sys.argv[1:])\n",
    "print(out)"
   ]
  }
 ],
 "metadata": {
  "kernelspec": {
   "display_name": "time",
   "language": "python",
   "name": "python3"
  },
  "language_info": {
   "codemirror_mode": {
    "name": "ipython",
    "version": 3
   },
   "file_extension": ".py",
   "mimetype": "text/x-python",
   "name": "python",
   "nbconvert_exporter": "python",
   "pygments_lexer": "ipython3",
   "version": "3.11.9"
  }
 },
 "nbformat": 4,
 "nbformat_minor": 2
}
