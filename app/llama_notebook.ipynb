{
 "cells": [
  {
   "cell_type": "code",
   "execution_count": 1,
   "metadata": {},
   "outputs": [
    {
     "name": "stderr",
     "output_type": "stream",
     "text": [
      "/home/userroot/miniconda3/envs/time/lib/python3.11/site-packages/tqdm/auto.py:21: TqdmWarning: IProgress not found. Please update jupyter and ipywidgets. See https://ipywidgets.readthedocs.io/en/stable/user_install.html\n",
      "  from .autonotebook import tqdm as notebook_tqdm\n"
     ]
    }
   ],
   "source": [
    "from typing import List\n",
    "from llama_index.core.node_parser import SentenceSplitter,SemanticSplitterNodeParser\n",
    "\n",
    "from llama_index.embeddings.ollama import OllamaEmbedding\n",
    "\n",
    "ollama_embedding = OllamaEmbedding(\n",
    "    model_name=\"arkohut/gte-qwen2-1.5b-instruct:q8_0\",\n",
    "    base_url=\"http://localhost:11434\",\n",
    "    ollama_additional_kwargs={\"mirostat\": 0},\n",
    ")\n",
    "\n",
    "\n",
    "\n",
    "# also baseline splitter\n",
    "base_splitter = SentenceSplitter(chunk_size=512)\n",
    "\n",
    "from llama_index.core import SimpleDirectoryReader\n",
    "\n",
    "from llama_index.core import Document\n",
    "\n",
    "from llama_index.core import VectorStoreIndex\n",
    "\n",
    "import gradio as gr\n",
    "from utils.functions import *\n",
    "from snownlp import SnowNLP\n",
    "from llama_index.core.schema import (\n",
    "    BaseNode,\n",
    "    Document,\n",
    "    MetadataMode,\n",
    "    NodeRelationship,\n",
    "    TextNode,\n",
    "    TransformComponent,\n",
    ")\n",
    "from llama_index.core.base.base_query_engine import BaseQueryEngine\n",
    "from llama_index.core import Settings\n",
    "from llama_index.llms.ollama import Ollama\n",
    "\n",
    "llm = Ollama(model=\"qwen2:7b-instruct\", request_timeout=320.0)\n",
    "Settings.llm = llm\n",
    "Settings.embed_model = ollama_embedding\n",
    "\n",
    "g_nodes :List[BaseNode] = []\n",
    "g_index :VectorStoreIndex = VectorStoreIndex(g_nodes)\n",
    "g_engine :BaseQueryEngine = g_index.as_query_engine()\n",
    "def srt_sentence_splitter(text: str) -> List[str]:\n",
    "    # Use SnowNLP to split Chinese text into sentences\n",
    "    # s = text.split('\\n')\n",
    "    # sentences = [x+' ' for x in s if x]\n",
    "    s = SnowNLP(text)\n",
    "    sentences = [x+' ' for x in s.sentences if x]\n",
    "    return sentences\n",
    "\n",
    "splitter = SemanticSplitterNodeParser(\n",
    "    buffer_size=1, breakpoint_percentile_threshold=95, embed_model=ollama_embedding,\n",
    "    sentence_splitter=srt_sentence_splitter\n",
    ")\n",
    "\n",
    "[length, content, srt] = gen_full_text('/home/userroot/dev/CCFClip/srts/shuzijinrong.srt')\n",
    "doc = Document(text=content)\n",
    "#print(doc)\n",
    "g_nodes.extend(splitter.get_nodes_from_documents([doc]))\n"
   ]
  },
  {
   "cell_type": "code",
   "execution_count": 5,
   "metadata": {},
   "outputs": [
    {
     "name": "stdout",
     "output_type": "stream",
     "text": [
      "数据资产的形成和有效组织在金融行业中面临着挑战，主要是因为数据量大且复杂。为了将数据快速转变为资产并作为决策的力量，需要有有效的数据组织方法。这包括从描述性分析、预测分析到指导分析的过程，使得数据不仅能提供信息，还能预测风险并进行因果分析，从而为决策提供指导。\n"
     ]
    }
   ],
   "source": [
    "g_index = VectorStoreIndex.from_documents([])\n",
    "g_index.insert_nodes(g_nodes)\n",
    "g_engine = g_index.as_query_engine()\n",
    "\n",
    "print(g_engine.query(\"数据资产\"))"
   ]
  },
  {
   "cell_type": "code",
   "execution_count": 6,
   "metadata": {},
   "outputs": [
    {
     "data": {
      "text/plain": [
       "[NodeWithScore(node=TextNode(id_='6aa887f3-1dbe-4fa1-8689-53b07c0bc51a', embedding=None, metadata={}, excluded_embed_metadata_keys=[], excluded_llm_metadata_keys=[], relationships={<NodeRelationship.SOURCE: '1'>: RelatedNodeInfo(node_id='ef3505b9-b763-40f8-a1ae-489361019a41', node_type=<ObjectType.DOCUMENT: '4'>, metadata={}, hash='67e0ef5733173bd78152e8dc99611146c122ea64ceb52962ba6117fa444f1785'), <NodeRelationship.PREVIOUS: '2'>: RelatedNodeInfo(node_id='2bd54be5-6db0-43b2-8637-143e3cb05771', node_type=<ObjectType.TEXT: '1'>, metadata={}, hash='37e9c583233d2ac569224110eb993aee775a8deae762f1bc00c8418faf1d68f7'), <NodeRelationship.NEXT: '3'>: RelatedNodeInfo(node_id='82f94799-75dc-46d4-9ca2-07729af15910', node_type=<ObjectType.TEXT: '1'>, metadata={}, hash='1db6906d3fa1c3212b0bd31210914217f018022fbbf7339296d9018bbc0d98c0')}, text='第一个你想让数据快速变成资产 今天来讲金融是最具数据密集型和计算密集一个行业 这个行业其实最有机会让在大模型在一个产业界落地的一个行业 但是很遗憾 今天从数据到数据资产 到数据决策 是很难进行有效组织 我们的数据实在是太多了 然后又太复杂了 怎么能有效的组织呢 第二件事是算法 我刚才讲的算法 刚才讲的说如果从描述性分析到预测分析到决策分析 要指导分析来讲 我们希望能进到第三个阶段 也就是简单讲的就是说你从一般来讲是一般的经验归纳总结 第二个是说做一些风险的 风险简单是相关性预测 对吧 预测这个人是未来会不会违约 基于过往的行为 ', mimetype='text/plain', start_char_idx=None, end_char_idx=None, text_template='{metadata_str}\\n\\n{content}', metadata_template='{key}: {value}', metadata_seperator='\\n'), score=0.5138459258324152),\n",
       " NodeWithScore(node=TextNode(id_='10576b45-bfe1-4e0d-a5de-a1e7443ca961', embedding=None, metadata={}, excluded_embed_metadata_keys=[], excluded_llm_metadata_keys=[], relationships={<NodeRelationship.SOURCE: '1'>: RelatedNodeInfo(node_id='ef3505b9-b763-40f8-a1ae-489361019a41', node_type=<ObjectType.DOCUMENT: '4'>, metadata={}, hash='67e0ef5733173bd78152e8dc99611146c122ea64ceb52962ba6117fa444f1785'), <NodeRelationship.PREVIOUS: '2'>: RelatedNodeInfo(node_id='bcf42f5e-cd16-406e-85fa-e2f82a8bf8f8', node_type=<ObjectType.TEXT: '1'>, metadata={}, hash='039be3c8573e52dcdfad77104dd7e30e501fe4de5648250c57783746c24634a3'), <NodeRelationship.NEXT: '3'>: RelatedNodeInfo(node_id='dcbcf5d1-80a8-4938-8629-a6a9597309cb', node_type=<ObjectType.TEXT: '1'>, metadata={}, hash='ceb5e0d9747612cdc9a17048c976b31448607bb18987965a73520516df304182')}, text='今天来讲 我们已经寄了100批的数据 那一一我们差不多有一万多台服务器 里面将近4000台都跟数据相关 那也是西南最大的数据中心 如何让数据快速变成一种决策的力量 那就是我们公司第一件事儿 第二件事来讲的话 今天来讲 如果我们前端有我们谈范式 这第二个是说我们是希望能够说能真正实现第四范式 前三个范式就是说经验理论仿真 那第四个范式就是数据的创新的应用 能够做到从简单的描述分析到决策预测分析 进而到第三个是真的因果分析 因果分析就是简单讲的就是指导分析 真的做一件事来讲 ', mimetype='text/plain', start_char_idx=None, end_char_idx=None, text_template='{metadata_str}\\n\\n{content}', metadata_template='{key}: {value}', metadata_seperator='\\n'), score=0.4855698890834469)]"
      ]
     },
     "execution_count": 6,
     "metadata": {},
     "output_type": "execute_result"
    }
   ],
   "source": [
    "g_retriver = g_index.as_retriever()\n",
    "\n",
    "g_retriver.retrieve(\"数据资产\")"
   ]
  }
 ],
 "metadata": {
  "kernelspec": {
   "display_name": "time",
   "language": "python",
   "name": "python3"
  },
  "language_info": {
   "codemirror_mode": {
    "name": "ipython",
    "version": 3
   },
   "file_extension": ".py",
   "mimetype": "text/x-python",
   "name": "python",
   "nbconvert_exporter": "python",
   "pygments_lexer": "ipython3",
   "version": "3.11.9"
  }
 },
 "nbformat": 4,
 "nbformat_minor": 2
}
